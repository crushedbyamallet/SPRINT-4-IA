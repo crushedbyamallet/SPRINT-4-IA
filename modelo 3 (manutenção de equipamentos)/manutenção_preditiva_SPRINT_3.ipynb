{
  "nbformat": 4,
  "nbformat_minor": 0,
  "metadata": {
    "colab": {
      "provenance": []
    },
    "kernelspec": {
      "name": "python3",
      "display_name": "Python 3"
    },
    "language_info": {
      "name": "python"
    }
  },
  "cells": [
    {
      "cell_type": "markdown",
      "source": [
        "construído com o TensorFlow, esse modelo conta com una Rede Neural Convolucional (CNN) adaptada para dados de sensores, devido à sua habilidade em extrair características relevantes e padrões temporais dos sinais dos sensores. Essa arquitetura é eficaz na identificação de condições que precedem falhas de equipamentos, permitindo a antecipação de manutenção e evitando paradas não planejadas. A CNN é ideal para processar e analisar os dados complexos e multidimensionais dos sensores!"
      ],
      "metadata": {
        "id": "gLbv-F35QMdY"
      }
    },
    {
      "cell_type": "code",
      "source": [],
      "metadata": {
        "id": "6oKe_V6YQeAW"
      },
      "execution_count": null,
      "outputs": []
    },
    {
      "cell_type": "code",
      "execution_count": null,
      "metadata": {
        "id": "d-X18j50vADO"
      },
      "outputs": [],
      "source": [
        "# import das libs que vamos usar :)\n",
        "import pandas as pd\n",
        "import numpy as np\n",
        "import matplotlib.pyplot as plt\n",
        "import tensorflow as tf\n",
        "from tensorflow import keras\n",
        "from sklearn.model_selection import train_test_split\n",
        "from sklearn.preprocessing import MinMaxScaler\n",
        "from sklearn.metrics import accuracy_score, classification_report, confusion_matrix"
      ]
    },
    {
      "cell_type": "code",
      "source": [
        "# carregando o dataset\n",
        "data = pd.read_csv(\"/content/predictive_maintenance.csv\")"
      ],
      "metadata": {
        "id": "b0zTqKMovMqz"
      },
      "execution_count": null,
      "outputs": []
    },
    {
      "cell_type": "code",
      "source": [
        "# visualizando os dados do dataset\n",
        "print(data.head())\n"
      ],
      "metadata": {
        "colab": {
          "base_uri": "https://localhost:8080/"
        },
        "id": "_OPRU3-xvN5k",
        "outputId": "c8a7db95-8971-410e-9303-551ca2d99041"
      },
      "execution_count": null,
      "outputs": [
        {
          "output_type": "stream",
          "name": "stdout",
          "text": [
            "   UDI Product ID Type  Air temperature [K]  Process temperature [K]  \\\n",
            "0    1     M14860    M                298.1                    308.6   \n",
            "1    2     L47181    L                298.2                    308.7   \n",
            "2    3     L47182    L                298.1                    308.5   \n",
            "3    4     L47183    L                298.2                    308.6   \n",
            "4    5     L47184    L                298.2                    308.7   \n",
            "\n",
            "   Rotational speed [rpm]  Torque [Nm]  Tool wear [min]  Target Failure Type  \n",
            "0                    1551         42.8                0       0   No Failure  \n",
            "1                    1408         46.3                3       0   No Failure  \n",
            "2                    1498         49.4                5       0   No Failure  \n",
            "3                    1433         39.5                7       0   No Failure  \n",
            "4                    1408         40.0                9       0   No Failure  \n"
          ]
        }
      ]
    },
    {
      "cell_type": "code",
      "source": [
        "# dividindo os dados em conjunto de treinamento e teste\n",
        "train_data, test_data = train_test_split(data, test_size=0.2, shuffle=False)"
      ],
      "metadata": {
        "id": "qCziE2dovPM8"
      },
      "execution_count": null,
      "outputs": []
    },
    {
      "cell_type": "code",
      "source": [
        "# selecionando as colunas numéricas para normalização\n",
        "numeric_columns = ['Air temperature [K]', 'Process temperature [K]', 'Rotational speed [rpm]', 'Torque [Nm]', 'Tool wear [min]', 'Target']\n",
        "train_data_numeric = train_data[numeric_columns]\n",
        "test_data_numeric = test_data[numeric_columns]"
      ],
      "metadata": {
        "id": "DyTyZLJpvQ04"
      },
      "execution_count": null,
      "outputs": []
    },
    {
      "cell_type": "code",
      "source": [
        "# normalizando os dados\n",
        "scaler = MinMaxScaler()\n",
        "train_data_normalized = scaler.fit_transform(train_data_numeric)\n",
        "test_data_normalized = scaler.transform(test_data_numeric)"
      ],
      "metadata": {
        "id": "LfuqjQgovSN2"
      },
      "execution_count": null,
      "outputs": []
    },
    {
      "cell_type": "code",
      "source": [
        "# separando as features (X) e o target (y)\n",
        "X_train = train_data_normalized[:, :-1]\n",
        "y_train = train_data_normalized[:, -1]\n",
        "X_test = test_data_normalized[:, :-1]\n",
        "y_test = test_data_normalized[:, -1]"
      ],
      "metadata": {
        "id": "xzXGgU_AvTj_"
      },
      "execution_count": null,
      "outputs": []
    },
    {
      "cell_type": "code",
      "source": [
        "# modelo de rede neural com o Keras\n",
        "model = keras.Sequential([\n",
        "    keras.layers.Input(shape=(X_train.shape[1],)),  # define explicitamente a forma de entrada\n",
        "    keras.layers.Dense(128, activation='relu'),  # primeira camada densa com 128 neurônios\n",
        "    keras.layers.Dropout(0.2),  # regularização dropout para evitar overfitting\n",
        "    keras.layers.Dense(64, activation='relu'),  # segunda camada densa com 64 neurônios\n",
        "    keras.layers.Dense(1, activation='sigmoid')  # camada de saída com ativação sigmoid para classificação binária\n",
        "])\n"
      ],
      "metadata": {
        "id": "GZg_3A6EvVGS"
      },
      "execution_count": null,
      "outputs": []
    },
    {
      "cell_type": "code",
      "source": [
        "# compilando o modelo\n",
        "model.compile(optimizer='adam', loss='binary_crossentropy', metrics=['accuracy'])"
      ],
      "metadata": {
        "id": "x3sRxlbBvXA-"
      },
      "execution_count": null,
      "outputs": []
    },
    {
      "cell_type": "code",
      "source": [
        "# treinando o modelo\n",
        "history = model.fit(X_train, y_train, epochs=100, batch_size=32, validation_split=0.2, verbose=0)"
      ],
      "metadata": {
        "id": "Fpa20O5KvYQI"
      },
      "execution_count": null,
      "outputs": []
    },
    {
      "cell_type": "code",
      "source": [
        "# avaliando o modelo no conjunto de teste\n",
        "loss, accuracy = model.evaluate(X_test, y_test)"
      ],
      "metadata": {
        "colab": {
          "base_uri": "https://localhost:8080/"
        },
        "id": "MTdS_vswvbOQ",
        "outputId": "b71df85e-7d92-443f-e98c-a6f5a6909d4b"
      },
      "execution_count": null,
      "outputs": [
        {
          "output_type": "stream",
          "name": "stdout",
          "text": [
            "\u001b[1m63/63\u001b[0m \u001b[32m━━━━━━━━━━━━━━━━━━━━\u001b[0m\u001b[37m\u001b[0m \u001b[1m0s\u001b[0m 2ms/step - accuracy: 0.9769 - loss: 0.0680\n"
          ]
        }
      ]
    },
    {
      "cell_type": "code",
      "source": [
        "# fazendo previsões\n",
        "predictions = model.predict(X_test)\n",
        "predictions = np.round(predictions).astype(int)  # arredondando previsões para 0 ou 1"
      ],
      "metadata": {
        "colab": {
          "base_uri": "https://localhost:8080/"
        },
        "id": "eHzj2gbCvcjy",
        "outputId": "2e677254-fef3-481b-d1a4-aeaecd772292"
      },
      "execution_count": null,
      "outputs": [
        {
          "output_type": "stream",
          "name": "stdout",
          "text": [
            "\u001b[1m63/63\u001b[0m \u001b[32m━━━━━━━━━━━━━━━━━━━━\u001b[0m\u001b[37m\u001b[0m \u001b[1m0s\u001b[0m 2ms/step\n"
          ]
        }
      ]
    },
    {
      "cell_type": "code",
      "source": [
        "# plotando as previsões e os valores reais\n",
        "plt.plot(predictions, label='previsto')\n",
        "plt.plot(y_test, label='real')\n",
        "plt.title('previsões vs. valores reais')\n",
        "plt.legend()\n",
        "plt.show()"
      ],
      "metadata": {
        "colab": {
          "base_uri": "https://localhost:8080/",
          "height": 452
        },
        "id": "x30cUaL-veVd",
        "outputId": "2cbb336a-ccd8-47f9-fcf5-1297d6416558"
      },
      "execution_count": null,
      "outputs": [
        {
          "output_type": "display_data",
          "data": {
            "text/plain": [
              "<Figure size 640x480 with 1 Axes>"
            ],
            "image/png": "[encoded data removed]"
          },
          "metadata": {}
        }
      ]
    },
    {
      "cell_type": "code",
      "source": [
        "# métricas de desempenho ebaaaa\n",
        "print(\"acurácia:\", accuracy_score(y_test, predictions))\n",
        "print(\"relatório de classificação:\\n\", classification_report(y_test, predictions))\n",
        "print(\"matriz de confusão:\\n\", confusion_matrix(y_test, predictions))"
      ],
      "metadata": {
        "colab": {
          "base_uri": "https://localhost:8080/"
        },
        "id": "nJY6lmUqvf6g",
        "outputId": "ff289292-1de4-4a1f-9dcc-1b560cbc7d89"
      },
      "execution_count": null,
      "outputs": [
        {
          "output_type": "stream",
          "name": "stdout",
          "text": [
            "acurácia: 0.9825\n",
            "relatório de classificação:\n",
            "               precision    recall  f1-score   support\n",
            "\n",
            "         0.0       0.99      0.99      0.99      1961\n",
            "         1.0       0.54      0.67      0.60        39\n",
            "\n",
            "    accuracy                           0.98      2000\n",
            "   macro avg       0.77      0.83      0.79      2000\n",
            "weighted avg       0.98      0.98      0.98      2000\n",
            "\n",
            "matriz de confusão:\n",
            " [[1939   22]\n",
            " [  13   26]]\n"
          ]
        }
      ]
    }
  ]
}