{
  "nbformat": 4,
  "nbformat_minor": 0,
  "metadata": {
    "colab": {
      "provenance": []
    },
    "kernelspec": {
      "name": "python3",
      "display_name": "Python 3"
    },
    "language_info": {
      "name": "python"
    }
  },
  "cells": [
    {
      "cell_type": "markdown",
      "source": [
        "\n",
        "esse modelo de classificação de resíduos foi desenvolvido usando o Keras e treinado na plataforma Teachable Machine, com uma arquitetura de rede neural convolucional (CNN). essa arquitetura foi escolhida devido à sua eficácia no reconhecimento de padrões visuais, como texturas e formas em imagens!"
      ],
      "metadata": {
        "id": "n_50kCviwXEt"
      }
    },
    {
      "cell_type": "code",
      "execution_count": 18,
      "metadata": {
        "id": "gKFjAiVbxEEC"
      },
      "outputs": [],
      "source": [
        "# import das libs necessarias !!\n",
        "import tensorflow as tf # importa o tensorflow para construir, treinar e implementar modelos de ML e IA\n",
        "from keras.models import load_model  # importa a função para carregar o modelo treinado\n",
        "from PIL import Image, ImageOps  # importa bibliotecas para manipulação de imagens\n",
        "import numpy as np  # importa a biblioteca numpy para operações numéricas"
      ]
    },
    {
      "cell_type": "code",
      "source": [
        "# dei !pip install tensorflow==2.8.0 porque estava ocorrendo um conflito entre versão do tensorflow do modelo treinado e a daqui do collab\n",
        "# para corrigir com melhor clareza é só executar esse comando por aqui mesmo :)\n",
        "# se quiser checar qual a versão você está usando é só dar um print(tf.__version__)"
      ],
      "metadata": {
        "id": "BNVF4i8uOoL_"
      },
      "execution_count": 19,
      "outputs": []
    },
    {
      "cell_type": "code",
      "source": [
        "# desativa a notação científica para melhor clareza\n",
        "np.set_printoptions(suppress=True)"
      ],
      "metadata": {
        "id": "YhosUNNcx9iO"
      },
      "execution_count": 20,
      "outputs": []
    },
    {
      "cell_type": "code",
      "source": [
        "# carrega o modelo treinado em um arquivo .h5\n",
        "model = load_model(\"/content/keras_model.h5\", compile=False)"
      ],
      "metadata": {
        "id": "MXNH3KhVyAHS"
      },
      "execution_count": 21,
      "outputs": []
    },
    {
      "cell_type": "code",
      "source": [
        "# carrega as labels (nomes das classes) de um arquivo de texto\n",
        "class_names = open(\"labels.txt\", \"r\").readlines()"
      ],
      "metadata": {
        "id": "u8zy2jGByD6t"
      },
      "execution_count": 22,
      "outputs": []
    },
    {
      "cell_type": "code",
      "source": [
        "# cria um array com a forma adequada para alimentar o modelo keras\n",
        "# o primeiro valor da forma define o número de imagens que você pode colocar no array (neste caso, 1)\n",
        "data = np.ndarray(shape=(1, 224, 224, 3), dtype=np.float32)"
      ],
      "metadata": {
        "id": "M4veSqjvyJKO"
      },
      "execution_count": 23,
      "outputs": []
    },
    {
      "cell_type": "code",
      "source": [
        "# teste da imagem q vamos classificar\n",
        "image = Image.open(\"/content/cardboard775.jpg\").convert(\"RGB\")"
      ],
      "metadata": {
        "id": "QGSqPt8yyMYL"
      },
      "execution_count": 24,
      "outputs": []
    },
    {
      "cell_type": "code",
      "source": [
        "# redimensiona a imagem para pelo menos 224x224 pixels e depois faz um corte a partir do centro\n",
        "size = (224, 224)\n",
        "image = ImageOps.fit(image, size, Image.Resampling.LANCZOS)"
      ],
      "metadata": {
        "id": "bWQbNCJByQBc"
      },
      "execution_count": 25,
      "outputs": []
    },
    {
      "cell_type": "code",
      "source": [
        "# converte a imagem em um array numpy\n",
        "image_array = np.asarray(image)"
      ],
      "metadata": {
        "id": "VF6YScwoyRMu"
      },
      "execution_count": 26,
      "outputs": []
    },
    {
      "cell_type": "code",
      "source": [
        "# normaliza a imagem para que os valores dos pixels fiquem entre -1 e 1\n",
        "normalized_image_array = (image_array.astype(np.float32) / 127.5) - 1"
      ],
      "metadata": {
        "id": "LbLBb4dxySw9"
      },
      "execution_count": 27,
      "outputs": []
    },
    {
      "cell_type": "code",
      "source": [
        "# carrega a imagem normalizada no array de dados\n",
        "data[0] = normalized_image_array"
      ],
      "metadata": {
        "id": "aJ_YC1knyUAp"
      },
      "execution_count": 28,
      "outputs": []
    },
    {
      "cell_type": "code",
      "source": [
        "# previsão\n",
        "prediction = model.predict(data)"
      ],
      "metadata": {
        "id": "Gl4536NoyVkb"
      },
      "execution_count": 29,
      "outputs": []
    },
    {
      "cell_type": "code",
      "source": [
        "# índice da classe com a maior probabilidade\n",
        "index = np.argmax(prediction)"
      ],
      "metadata": {
        "id": "jr75S4HLyY5O"
      },
      "execution_count": 30,
      "outputs": []
    },
    {
      "cell_type": "code",
      "source": [
        "# nome da classe correspondente ao índice\n",
        "class_name = class_names[index].strip()"
      ],
      "metadata": {
        "id": "vhos3iKeyaRd"
      },
      "execution_count": 31,
      "outputs": []
    },
    {
      "cell_type": "code",
      "source": [
        "# pontuação de confiança para a classe prevista\n",
        "confidence_score = prediction[0][index]"
      ],
      "metadata": {
        "id": "GvQTJ67_ybvK"
      },
      "execution_count": 32,
      "outputs": []
    },
    {
      "cell_type": "code",
      "source": [
        "# imprime o nome da classe prevista e a pontuação de confiança\n",
        "print(\"classe:\", class_name)\n",
        "print(\"pontuação de confiança:\", confidence_score)"
      ],
      "metadata": {
        "id": "rQCBr2JhydtC",
        "colab": {
          "base_uri": "https://localhost:8080/"
        },
        "outputId": "c3ab1b17-f873-4417-b186-e794d7587ae1"
      },
      "execution_count": 33,
      "outputs": [
        {
          "output_type": "stream",
          "name": "stdout",
          "text": [
            "classe: 5 papelão\n",
            "pontuação de confiança: 1.0\n"
          ]
        }
      ]
    }
  ]
}